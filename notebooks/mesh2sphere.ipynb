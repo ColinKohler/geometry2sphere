{
 "cells": [
  {
   "cell_type": "code",
   "execution_count": 1,
   "id": "4edda66c-4400-40f7-a914-2b357573d7a6",
   "metadata": {},
   "outputs": [],
   "source": [
    "from o2s.models.object_2_sphere import Mesh2Sphere\n",
    "from o2s.datasets.radar_dataset import RadarDataset\n",
    "\n",
    "import numpy as np\n",
    "import matplotlib.pyplot as plt\n",
    "from torch_harmonics import plotting\n",
    "from torch_geometric.loader import DataLoader\n",
    "import xarray\n",
    "import torch\n",
    "from torch import nn"
   ]
  },
  {
   "cell_type": "code",
   "execution_count": 2,
   "id": "b5d0cc25-0fbd-4b37-adc1-4152c54902e7",
   "metadata": {},
   "outputs": [],
   "source": [
    "dataset = RadarDataset('/home/colin/hdd/workspace/datasets/test_dataset.nc', 'test', return_mesh=True)"
   ]
  },
  {
   "cell_type": "code",
   "execution_count": 3,
   "id": "76a31f36-4876-4ebc-a9ee-f8e95db57641",
   "metadata": {},
   "outputs": [],
   "source": [
    "B = 1\n",
    "dataloader = DataLoader(dataset, batch_size=B, shuffle=True)"
   ]
  },
  {
   "cell_type": "code",
   "execution_count": null,
   "id": "7b1a13d2-f72e-4001-986e-1995c0edfdad",
   "metadata": {},
   "outputs": [
    {
     "name": "stderr",
     "output_type": "stream",
     "text": [
      "/home/colin/anaconda3/envs/torch/lib/python3.10/site-packages/torch/jit/_check.py:177: UserWarning: The TorchScript type system doesn't support instance-level annotations on empty non-base types in `__init__`. Instead, either 1) use a type annotation in the class body, or 2) wrap the type in `torch.jit.Attribute`.\n",
      "  warnings.warn(\n",
      "/home/colin/anaconda3/envs/torch/lib/python3.10/site-packages/torch/jit/_check.py:177: UserWarning: The TorchScript type system doesn't support instance-level annotations on empty non-base types in `__init__`. Instead, either 1) use a type annotation in the class body, or 2) wrap the type in `torch.jit.Attribute`.\n",
      "  warnings.warn(\n"
     ]
    }
   ],
   "source": [
    "model = Mesh2Sphere(3, 25, 32, 0.5, use_mlp=False).cuda()"
   ]
  },
  {
   "cell_type": "code",
   "execution_count": null,
   "id": "90b570ea-7f99-44d6-bbed-6f9c53b0b59d",
   "metadata": {
    "scrolled": true
   },
   "outputs": [],
   "source": [
    "batch, target, vert, face = next(iter(dataloader))"
   ]
  },
  {
   "cell_type": "code",
   "execution_count": null,
   "id": "abc75546-2efa-4e7e-a4ae-f7fa027ace9f",
   "metadata": {},
   "outputs": [],
   "source": [
    "batch"
   ]
  },
  {
   "cell_type": "code",
   "execution_count": null,
   "id": "2d78dae8-1c94-49fd-9a87-ed9cef0f343a",
   "metadata": {},
   "outputs": [],
   "source": [
    "import trimesh\n",
    "mesh = trimesh.Trimesh(vertices=vert[0,0], faces=face[0,0], process=True, validate=False)"
   ]
  },
  {
   "cell_type": "code",
   "execution_count": null,
   "id": "71d15785-a9a6-4b90-a4f7-536e1be4f1ea",
   "metadata": {},
   "outputs": [],
   "source": [
    "mesh.show()"
   ]
  },
  {
   "cell_type": "code",
   "execution_count": null,
   "id": "f637723b-455d-45e8-9e90-cdb979b4b6d2",
   "metadata": {},
   "outputs": [],
   "source": [
    "mesh.vertices.shape"
   ]
  },
  {
   "cell_type": "code",
   "execution_count": null,
   "id": "397f1642-6386-4b38-8712-dc5b8721a573",
   "metadata": {},
   "outputs": [],
   "source": [
    "mesh.edges_unique"
   ]
  },
  {
   "cell_type": "markdown",
   "id": "45db114d-9f21-4c03-aff5-3c12992c5e18",
   "metadata": {},
   "source": [
    "pred, w = model(batch.cuda())"
   ]
  },
  {
   "cell_type": "code",
   "execution_count": null,
   "id": "84dc207b-e726-403d-94f0-26611666e124",
   "metadata": {},
   "outputs": [],
   "source": [
    "plotting.plot_spherical_fn(pred.detach().cpu().squeeze().numpy(), fig=plt.figure(figsize=(2,2)))"
   ]
  },
  {
   "cell_type": "code",
   "execution_count": null,
   "id": "2e2447a6-d006-403b-99f2-cbbc742a265c",
   "metadata": {},
   "outputs": [],
   "source": [
    "plotting.plot_spherical_fn(target[0,1,:,:,0].squeeze().numpy(), fig=plt.figure(figsize=(2,2)))"
   ]
  },
  {
   "cell_type": "code",
   "execution_count": null,
   "id": "09e03a31-9b92-4b4d-ae0a-9c63ed3bf7ba",
   "metadata": {},
   "outputs": [],
   "source": [
    "target = torch.view_as_real(target)[0,0,:,:,0] "
   ]
  },
  {
   "cell_type": "code",
   "execution_count": null,
   "id": "5900cb59-8ce3-4b61-acc8-df3b35fb7673",
   "metadata": {},
   "outputs": [],
   "source": [
    "optimizer = torch.optim.Adam(model.parameters(), lr = 1e-3)\n",
    "\n",
    "for iter in range(1000):\n",
    "    y_pred, _ = model(batch.cuda())\n",
    "    loss = (y_pred - target.view(1,61,21).cuda()).pow(2).mean()\n",
    "\n",
    "    optimizer.zero_grad()\n",
    "    loss.backward()\n",
    "    optimizer.step()\n",
    "\n",
    "    if iter % 10 == 0:\n",
    "        print(f'iteration: {iter} loss: {loss.item()}')"
   ]
  },
  {
   "cell_type": "code",
   "execution_count": null,
   "id": "2be2369d-9b63-49e0-9080-ed32e5f2c05b",
   "metadata": {},
   "outputs": [],
   "source": [
    "with torch.no_grad():\n",
    "    pred, w = model(batch.cuda())\n",
    "    plotting.plot_spherical_fn(pred.cpu().squeeze().numpy(), fig=plt.figure(figsize=(2,2)))"
   ]
  },
  {
   "cell_type": "code",
   "execution_count": null,
   "id": "5cf47ceb-0e7a-4c33-98a9-956a5fd651d6",
   "metadata": {},
   "outputs": [],
   "source": [
    "plotting.plot_spherical_fn(target.squeeze().numpy(), fig=plt.figure(figsize=(2,2)))"
   ]
  },
  {
   "cell_type": "code",
   "execution_count": null,
   "id": "ecd3d5c9-fcd9-4fc5-b685-c7ee106ce253",
   "metadata": {},
   "outputs": [],
   "source": []
  }
 ],
 "metadata": {
  "kernelspec": {
   "display_name": "Python 3 (ipykernel)",
   "language": "python",
   "name": "python3"
  },
  "language_info": {
   "codemirror_mode": {
    "name": "ipython",
    "version": 3
   },
   "file_extension": ".py",
   "mimetype": "text/x-python",
   "name": "python",
   "nbconvert_exporter": "python",
   "pygments_lexer": "ipython3",
   "version": "3.10.14"
  }
 },
 "nbformat": 4,
 "nbformat_minor": 5
}

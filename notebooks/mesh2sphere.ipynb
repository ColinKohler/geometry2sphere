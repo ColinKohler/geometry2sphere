{
 "cells": [
  {
   "cell_type": "code",
   "execution_count": 1,
   "id": "4edda66c-4400-40f7-a914-2b357573d7a6",
   "metadata": {},
   "outputs": [],
   "source": [
    "from o2s.models.object_2_sphere import Mesh2Sphere\n",
    "from o2s.datasets.radar_dataset import RadarDataset\n",
    "\n",
    "import numpy as np\n",
    "import matplotlib.pyplot as plt\n",
    "from torch_harmonics import plotting\n",
    "from torch_geometric.loader import DataLoader\n",
    "import xarray\n",
    "import torch\n",
    "from torch import nn"
   ]
  },
  {
   "cell_type": "code",
   "execution_count": 2,
   "id": "b5d0cc25-0fbd-4b37-adc1-4152c54902e7",
   "metadata": {},
   "outputs": [],
   "source": [
    "dataset = RadarDataset('/home/colin/hdd/workspace/datasets/test_dataset.nc', 'test', return_mesh=True)"
   ]
  },
  {
   "cell_type": "code",
   "execution_count": 3,
   "id": "76a31f36-4876-4ebc-a9ee-f8e95db57641",
   "metadata": {},
   "outputs": [],
   "source": [
    "B = 1\n",
    "dataloader = DataLoader(dataset, batch_size=B, shuffle=True)"
   ]
  },
  {
   "cell_type": "code",
   "execution_count": 4,
   "id": "7b1a13d2-f72e-4001-986e-1995c0edfdad",
   "metadata": {},
   "outputs": [
    {
     "name": "stderr",
     "output_type": "stream",
     "text": [
      "/home/colin/anaconda3/envs/torch/lib/python3.10/site-packages/torch/jit/_check.py:177: UserWarning: The TorchScript type system doesn't support instance-level annotations on empty non-base types in `__init__`. Instead, either 1) use a type annotation in the class body, or 2) wrap the type in `torch.jit.Attribute`.\n",
      "  warnings.warn(\n",
      "/home/colin/anaconda3/envs/torch/lib/python3.10/site-packages/torch/jit/_check.py:177: UserWarning: The TorchScript type system doesn't support instance-level annotations on empty non-base types in `__init__`. Instead, either 1) use a type annotation in the class body, or 2) wrap the type in `torch.jit.Attribute`.\n",
      "  warnings.warn(\n",
      "/home/colin/anaconda3/envs/torch/lib/python3.10/site-packages/torch/jit/_check.py:177: UserWarning: The TorchScript type system doesn't support instance-level annotations on empty non-base types in `__init__`. Instead, either 1) use a type annotation in the class body, or 2) wrap the type in `torch.jit.Attribute`.\n",
      "  warnings.warn(\n",
      "/home/colin/anaconda3/envs/torch/lib/python3.10/site-packages/torch/jit/_check.py:177: UserWarning: The TorchScript type system doesn't support instance-level annotations on empty non-base types in `__init__`. Instead, either 1) use a type annotation in the class body, or 2) wrap the type in `torch.jit.Attribute`.\n",
      "  warnings.warn(\n"
     ]
    }
   ],
   "source": [
    "model = Mesh2Sphere(5, 75, 128, 10.0, use_mlp=False).cuda()"
   ]
  },
  {
   "cell_type": "code",
   "execution_count": 5,
   "id": "90b570ea-7f99-44d6-bbed-6f9c53b0b59d",
   "metadata": {
    "scrolled": true
   },
   "outputs": [],
   "source": [
    "batch, resp, vert, face = next(iter(dataloader))"
   ]
  },
  {
   "cell_type": "code",
   "execution_count": 6,
   "id": "abc75546-2efa-4e7e-a4ae-f7fa027ace9f",
   "metadata": {},
   "outputs": [
    {
     "data": {
      "text/plain": [
       "DataBatch(x=[63, 1], edge_index=[2, 180], pos=[63, 3], edge_vec=[180, 3], batch=[63], ptr=[2])"
      ]
     },
     "execution_count": 6,
     "metadata": {},
     "output_type": "execute_result"
    }
   ],
   "source": [
    "batch"
   ]
  },
  {
   "cell_type": "code",
   "execution_count": 7,
   "id": "5d0e990f-9305-4f71-ab33-7aef40125a14",
   "metadata": {},
   "outputs": [],
   "source": [
    "pred, w = model(batch.cuda())"
   ]
  },
  {
   "cell_type": "code",
   "execution_count": 8,
   "id": "09e03a31-9b92-4b4d-ae0a-9c63ed3bf7ba",
   "metadata": {},
   "outputs": [
    {
     "data": {
      "text/plain": [
       "<cartopy.mpl.geocollection.GeoQuadMesh at 0x77de423e37c0>"
      ]
     },
     "execution_count": 8,
     "metadata": {},
     "output_type": "execute_result"
    },
    {
     "data": {
      "image/png": "[encoded data removed]",
      "text/plain": [
       "<Figure size 200x200 with 2 Axes>"
      ]
     },
     "metadata": {},
     "output_type": "display_data"
    }
   ],
   "source": [
    "#target = torch.view_as_real(target)[0,50,:,:,0] \n",
    "target = resp[0,52,:,:]\n",
    "plotting.plot_spherical_fn(target.squeeze().numpy(), fig=plt.figure(figsize=(2,2)))"
   ]
  },
  {
   "cell_type": "code",
   "execution_count": 9,
   "id": "56e1fadf-706b-4339-9322-a06c6879abef",
   "metadata": {},
   "outputs": [],
   "source": [
    "target = (target - torch.min(target)) / ( torch.max(target) - torch.min(target) )"
   ]
  },
  {
   "cell_type": "code",
   "execution_count": null,
   "id": "5900cb59-8ce3-4b61-acc8-df3b35fb7673",
   "metadata": {},
   "outputs": [
    {
     "name": "stdout",
     "output_type": "stream",
     "text": [
      "iteration: 0 loss: 0.21426228263049332\n",
      "iteration: 10 loss: 0.007540086380214461\n",
      "iteration: 20 loss: 0.006916781901639661\n",
      "iteration: 30 loss: 0.0014394738892403586\n",
      "iteration: 40 loss: 0.001722124048841854\n",
      "iteration: 50 loss: 0.0014445797367272307\n",
      "iteration: 60 loss: 0.0010486128021044011\n",
      "iteration: 70 loss: 0.002086246142498267\n",
      "iteration: 80 loss: 0.001084307087065558\n",
      "iteration: 90 loss: 0.001496448669070852\n",
      "iteration: 100 loss: 0.001303784746716302\n"
     ]
    }
   ],
   "source": [
    "optimizer = torch.optim.Adam(model.parameters(), lr = 1e-4)\n",
    "\n",
    "for iter in range(200):\n",
    "    y_pred, _ = model(batch.cuda())\n",
    "    loss = (y_pred - target.view(1,61,21).cuda()).pow(2).mean()\n",
    "\n",
    "    optimizer.zero_grad()\n",
    "    loss.backward()\n",
    "    optimizer.step()\n",
    "\n",
    "    if iter % 10 == 0:\n",
    "        \n",
    "        print(f'iteration: {iter} loss: {loss.item()}')"
   ]
  },
  {
   "cell_type": "code",
   "execution_count": null,
   "id": "2be2369d-9b63-49e0-9080-ed32e5f2c05b",
   "metadata": {},
   "outputs": [],
   "source": [
    "with torch.no_grad():\n",
    "    pred, w = model(batch.cuda())\n",
    "    plotting.plot_spherical_fn(pred.cpu().squeeze().numpy(), fig=plt.figure(figsize=(2,2)))"
   ]
  },
  {
   "cell_type": "code",
   "execution_count": null,
   "id": "5cf47ceb-0e7a-4c33-98a9-956a5fd651d6",
   "metadata": {},
   "outputs": [],
   "source": [
    "plotting.plot_spherical_fn(target.squeeze().numpy(), fig=plt.figure(figsize=(2,2)))"
   ]
  },
  {
   "cell_type": "code",
   "execution_count": null,
   "id": "d4719d60-3f1b-4158-a7ca-d7c2b1f8d987",
   "metadata": {},
   "outputs": [],
   "source": [
    "plotting.plot_spherical_fn(np.abs(target.squeeze().numpy() - pred.cpu().squeeze().numpy()), fig=plt.figure(figsize=(2,2)))"
   ]
  },
  {
   "cell_type": "code",
   "execution_count": null,
   "id": "ecd3d5c9-fcd9-4fc5-b685-c7ee106ce253",
   "metadata": {},
   "outputs": [],
   "source": [
    "import trimesh\n",
    "mesh = trimesh.Trimesh(vertices=vert[0,0], faces=face[0,0], process=True, validate=False)\n",
    "mesh.show()"
   ]
  },
  {
   "cell_type": "code",
   "execution_count": null,
   "id": "6f9b228a-5c8b-4df8-bd3c-6ac6c022e499",
   "metadata": {},
   "outputs": [],
   "source": []
  }
 ],
 "metadata": {
  "kernelspec": {
   "display_name": "Python 3 (ipykernel)",
   "language": "python",
   "name": "python3"
  },
  "language_info": {
   "codemirror_mode": {
    "name": "ipython",
    "version": 3
   },
   "file_extension": ".py",
   "mimetype": "text/x-python",
   "name": "python",
   "nbconvert_exporter": "python",
   "pygments_lexer": "ipython3",
   "version": "3.10.14"
  }
 },
 "nbformat": 4,
 "nbformat_minor": 5
}

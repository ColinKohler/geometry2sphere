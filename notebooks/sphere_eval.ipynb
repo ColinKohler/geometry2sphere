{
 "cells": [
  {
   "cell_type": "code",
   "execution_count": 1,
   "id": "4edda66c-4400-40f7-a914-2b357573d7a6",
   "metadata": {},
   "outputs": [],
   "source": [
    "from o2s.models.object_2_sphere import Mesh2Radar\n",
    "from o2s.datasets.radar_dataset import RadarDataset\n",
    "from o2s.datasets.transforms.general import Compose\n",
    "from o2s.datasets.transforms.radar import Log, Abs, Normalize, Center\n",
    "from o2s.datasets.transforms.mesh import MeshNormalize\n",
    "\n",
    "import numpy as np\n",
    "import matplotlib.pyplot as plt\n",
    "from torch_harmonics import plotting\n",
    "from torch_geometric.loader import DataLoader\n",
    "import xarray\n",
    "import torch\n",
    "from torch import nn\n",
    "from pathlib import Path\n",
    "\n",
    "from hydra_zen import load_from_yaml, instantiate, get_target\n",
    "from mlflow import MlflowClient, set_tracking_uri"
   ]
  },
  {
   "cell_type": "code",
   "execution_count": 2,
   "id": "fb28c655-3bc2-4b73-81fc-4d7c30cf5ba5",
   "metadata": {},
   "outputs": [],
   "source": [
    "set_tracking_uri('/home/colin/hdd/workspace/object2sphere/datasets/out/mlflow')\n",
    "runs = MlflowClient().search_runs(\n",
    "    experiment_ids=\"711364059123036807\",\n",
    ")"
   ]
  },
  {
   "cell_type": "code",
   "execution_count": 3,
   "id": "8ddc348b-db3a-43e2-80f2-e80ea601780f",
   "metadata": {},
   "outputs": [
    {
     "ename": "InstantiationException",
     "evalue": "Error locating target 'o2s.models.object_2_sphere.Mesh2Sphere', set env var HYDRA_FULL_ERROR=1 to see chained exception.\nfull_key: module.backbone",
     "output_type": "error",
     "traceback": [
      "\u001b[0;31m---------------------------------------------------------------------------\u001b[0m",
      "\u001b[0;31mModuleNotFoundError\u001b[0m                       Traceback (most recent call last)",
      "File \u001b[0;32m~/anaconda3/envs/torch/lib/python3.10/site-packages/hydra/_internal/utils.py:650\u001b[0m, in \u001b[0;36m_locate\u001b[0;34m(path)\u001b[0m\n\u001b[1;32m    649\u001b[0m \u001b[38;5;28;01mtry\u001b[39;00m:\n\u001b[0;32m--> 650\u001b[0m     obj \u001b[38;5;241m=\u001b[39m \u001b[43mimport_module\u001b[49m\u001b[43m(\u001b[49m\u001b[43mmod\u001b[49m\u001b[43m)\u001b[49m\n\u001b[1;32m    651\u001b[0m     \u001b[38;5;28;01mcontinue\u001b[39;00m\n",
      "File \u001b[0;32m~/anaconda3/envs/torch/lib/python3.10/importlib/__init__.py:126\u001b[0m, in \u001b[0;36mimport_module\u001b[0;34m(name, package)\u001b[0m\n\u001b[1;32m    125\u001b[0m         level \u001b[38;5;241m+\u001b[39m\u001b[38;5;241m=\u001b[39m \u001b[38;5;241m1\u001b[39m\n\u001b[0;32m--> 126\u001b[0m \u001b[38;5;28;01mreturn\u001b[39;00m \u001b[43m_bootstrap\u001b[49m\u001b[38;5;241;43m.\u001b[39;49m\u001b[43m_gcd_import\u001b[49m\u001b[43m(\u001b[49m\u001b[43mname\u001b[49m\u001b[43m[\u001b[49m\u001b[43mlevel\u001b[49m\u001b[43m:\u001b[49m\u001b[43m]\u001b[49m\u001b[43m,\u001b[49m\u001b[43m \u001b[49m\u001b[43mpackage\u001b[49m\u001b[43m,\u001b[49m\u001b[43m \u001b[49m\u001b[43mlevel\u001b[49m\u001b[43m)\u001b[49m\n",
      "File \u001b[0;32m<frozen importlib._bootstrap>:1050\u001b[0m, in \u001b[0;36m_gcd_import\u001b[0;34m(name, package, level)\u001b[0m\n",
      "File \u001b[0;32m<frozen importlib._bootstrap>:1027\u001b[0m, in \u001b[0;36m_find_and_load\u001b[0;34m(name, import_)\u001b[0m\n",
      "File \u001b[0;32m<frozen importlib._bootstrap>:1001\u001b[0m, in \u001b[0;36m_find_and_load_unlocked\u001b[0;34m(name, import_)\u001b[0m\n",
      "\u001b[0;31mModuleNotFoundError\u001b[0m: No module named 'o2s.models.object_2_sphere.Mesh2Sphere'; 'o2s.models.object_2_sphere' is not a package",
      "\nThe above exception was the direct cause of the following exception:\n",
      "\u001b[0;31mImportError\u001b[0m                               Traceback (most recent call last)",
      "File \u001b[0;32m~/anaconda3/envs/torch/lib/python3.10/site-packages/hydra/_internal/instantiate/_instantiate2.py:134\u001b[0m, in \u001b[0;36m_resolve_target\u001b[0;34m(target, full_key)\u001b[0m\n\u001b[1;32m    133\u001b[0m \u001b[38;5;28;01mtry\u001b[39;00m:\n\u001b[0;32m--> 134\u001b[0m     target \u001b[38;5;241m=\u001b[39m \u001b[43m_locate\u001b[49m\u001b[43m(\u001b[49m\u001b[43mtarget\u001b[49m\u001b[43m)\u001b[49m\n\u001b[1;32m    135\u001b[0m \u001b[38;5;28;01mexcept\u001b[39;00m \u001b[38;5;167;01mException\u001b[39;00m \u001b[38;5;28;01mas\u001b[39;00m e:\n",
      "File \u001b[0;32m~/anaconda3/envs/torch/lib/python3.10/site-packages/hydra/_internal/utils.py:653\u001b[0m, in \u001b[0;36m_locate\u001b[0;34m(path)\u001b[0m\n\u001b[1;32m    652\u001b[0m \u001b[38;5;28;01mexcept\u001b[39;00m \u001b[38;5;167;01mModuleNotFoundError\u001b[39;00m \u001b[38;5;28;01mas\u001b[39;00m exc_import:\n\u001b[0;32m--> 653\u001b[0m     \u001b[38;5;28;01mraise\u001b[39;00m \u001b[38;5;167;01mImportError\u001b[39;00m(\n\u001b[1;32m    654\u001b[0m         \u001b[38;5;124mf\u001b[39m\u001b[38;5;124m\"\u001b[39m\u001b[38;5;124mError loading \u001b[39m\u001b[38;5;124m'\u001b[39m\u001b[38;5;132;01m{\u001b[39;00mpath\u001b[38;5;132;01m}\u001b[39;00m\u001b[38;5;124m'\u001b[39m\u001b[38;5;124m:\u001b[39m\u001b[38;5;130;01m\\n\u001b[39;00m\u001b[38;5;132;01m{\u001b[39;00m\u001b[38;5;28mrepr\u001b[39m(exc_import)\u001b[38;5;132;01m}\u001b[39;00m\u001b[38;5;124m\"\u001b[39m\n\u001b[1;32m    655\u001b[0m         \u001b[38;5;241m+\u001b[39m \u001b[38;5;124mf\u001b[39m\u001b[38;5;124m\"\u001b[39m\u001b[38;5;130;01m\\n\u001b[39;00m\u001b[38;5;124mAre you sure that \u001b[39m\u001b[38;5;124m'\u001b[39m\u001b[38;5;132;01m{\u001b[39;00mpart\u001b[38;5;132;01m}\u001b[39;00m\u001b[38;5;124m'\u001b[39m\u001b[38;5;124m is importable from module \u001b[39m\u001b[38;5;124m'\u001b[39m\u001b[38;5;132;01m{\u001b[39;00mparent_dotpath\u001b[38;5;132;01m}\u001b[39;00m\u001b[38;5;124m'\u001b[39m\u001b[38;5;124m?\u001b[39m\u001b[38;5;124m\"\u001b[39m\n\u001b[1;32m    656\u001b[0m     ) \u001b[38;5;28;01mfrom\u001b[39;00m \u001b[38;5;21;01mexc_import\u001b[39;00m\n\u001b[1;32m    657\u001b[0m \u001b[38;5;28;01mexcept\u001b[39;00m \u001b[38;5;167;01mException\u001b[39;00m \u001b[38;5;28;01mas\u001b[39;00m exc_import:\n",
      "\u001b[0;31mImportError\u001b[0m: Error loading 'o2s.models.object_2_sphere.Mesh2Sphere':\nModuleNotFoundError(\"No module named 'o2s.models.object_2_sphere.Mesh2Sphere'; 'o2s.models.object_2_sphere' is not a package\")\nAre you sure that 'Mesh2Sphere' is importable from module 'o2s.models.object_2_sphere'?",
      "\nThe above exception was the direct cause of the following exception:\n",
      "\u001b[0;31mInstantiationException\u001b[0m                    Traceback (most recent call last)",
      "Cell \u001b[0;32mIn[3], line 7\u001b[0m\n\u001b[1;32m      3\u001b[0m \u001b[38;5;66;03m#b7cdf38de03d4257aacb39457acc795c\u001b[39;00m\n\u001b[1;32m      4\u001b[0m equiformer \u001b[38;5;241m=\u001b[39m get_target(cfg\u001b[38;5;241m.\u001b[39mmodule)\n\u001b[1;32m      5\u001b[0m equiformer \u001b[38;5;241m=\u001b[39m equiformer\u001b[38;5;241m.\u001b[39mload_from_checkpoint(\n\u001b[1;32m      6\u001b[0m     output_dir \u001b[38;5;241m+\u001b[39m \u001b[38;5;124m'\u001b[39m\u001b[38;5;124m/last.ckpt\u001b[39m\u001b[38;5;124m'\u001b[39m,\n\u001b[0;32m----> 7\u001b[0m     backbone\u001b[38;5;241m=\u001b[39m\u001b[43minstantiate\u001b[49m\u001b[43m(\u001b[49m\u001b[43mcfg\u001b[49m\u001b[38;5;241;43m.\u001b[39;49m\u001b[43mmodule\u001b[49m\u001b[38;5;241;43m.\u001b[39;49m\u001b[43mbackbone\u001b[49m\u001b[43m)\u001b[49m,\n\u001b[1;32m      8\u001b[0m     criterion\u001b[38;5;241m=\u001b[39minstantiate(cfg\u001b[38;5;241m.\u001b[39mmodule\u001b[38;5;241m.\u001b[39mcriterion),\n\u001b[1;32m      9\u001b[0m     optim\u001b[38;5;241m=\u001b[39minstantiate(cfg\u001b[38;5;241m.\u001b[39mmodule\u001b[38;5;241m.\u001b[39moptim),\n\u001b[1;32m     10\u001b[0m )\n",
      "File \u001b[0;32m~/anaconda3/envs/torch/lib/python3.10/site-packages/hydra_zen/_hydra_overloads.py:331\u001b[0m, in \u001b[0;36minstantiate\u001b[0;34m(config, _target_wrapper_, *args, **kwargs)\u001b[0m\n\u001b[1;32m    209\u001b[0m \u001b[38;5;250m\u001b[39m\u001b[38;5;124;03m\"\"\"\u001b[39;00m\n\u001b[1;32m    210\u001b[0m \u001b[38;5;124;03mInstantiates the target of a targeted config.\u001b[39;00m\n\u001b[1;32m    211\u001b[0m \n\u001b[0;32m   (...)\u001b[0m\n\u001b[1;32m    328\u001b[0m \u001b[38;5;124;03mSee :ref:`data-val` for more general data validation capabilities via hydra-zen.\u001b[39;00m\n\u001b[1;32m    329\u001b[0m \u001b[38;5;124;03m\"\"\"\u001b[39;00m\n\u001b[1;32m    330\u001b[0m \u001b[38;5;28;01mif\u001b[39;00m _target_wrapper_ \u001b[38;5;129;01mis\u001b[39;00m \u001b[38;5;28;01mNone\u001b[39;00m:\n\u001b[0;32m--> 331\u001b[0m     \u001b[38;5;28;01mreturn\u001b[39;00m \u001b[43mhydra_instantiate\u001b[49m\u001b[43m(\u001b[49m\u001b[43mconfig\u001b[49m\u001b[43m,\u001b[49m\u001b[43m \u001b[49m\u001b[38;5;241;43m*\u001b[39;49m\u001b[43margs\u001b[49m\u001b[43m,\u001b[49m\u001b[43m \u001b[49m\u001b[38;5;241;43m*\u001b[39;49m\u001b[38;5;241;43m*\u001b[39;49m\u001b[43mkwargs\u001b[49m\u001b[43m)\u001b[49m\n\u001b[1;32m    333\u001b[0m \u001b[38;5;28;01mfrom\u001b[39;00m \u001b[38;5;21;01mhydra\u001b[39;00m\u001b[38;5;21;01m.\u001b[39;00m\u001b[38;5;21;01m_internal\u001b[39;00m\u001b[38;5;21;01m.\u001b[39;00m\u001b[38;5;21;01minstantiate\u001b[39;00m \u001b[38;5;28;01mimport\u001b[39;00m _instantiate2 \u001b[38;5;28;01mas\u001b[39;00m inst\n\u001b[1;32m    335\u001b[0m old \u001b[38;5;241m=\u001b[39m inst\u001b[38;5;241m.\u001b[39m_call_target\n",
      "File \u001b[0;32m~/anaconda3/envs/torch/lib/python3.10/site-packages/hydra/_internal/instantiate/_instantiate2.py:226\u001b[0m, in \u001b[0;36minstantiate\u001b[0;34m(config, *args, **kwargs)\u001b[0m\n\u001b[1;32m    223\u001b[0m     _convert_ \u001b[38;5;241m=\u001b[39m config\u001b[38;5;241m.\u001b[39mpop(_Keys\u001b[38;5;241m.\u001b[39mCONVERT, ConvertMode\u001b[38;5;241m.\u001b[39mNONE)\n\u001b[1;32m    224\u001b[0m     _partial_ \u001b[38;5;241m=\u001b[39m config\u001b[38;5;241m.\u001b[39mpop(_Keys\u001b[38;5;241m.\u001b[39mPARTIAL, \u001b[38;5;28;01mFalse\u001b[39;00m)\n\u001b[0;32m--> 226\u001b[0m     \u001b[38;5;28;01mreturn\u001b[39;00m \u001b[43minstantiate_node\u001b[49m\u001b[43m(\u001b[49m\n\u001b[1;32m    227\u001b[0m \u001b[43m        \u001b[49m\u001b[43mconfig\u001b[49m\u001b[43m,\u001b[49m\u001b[43m \u001b[49m\u001b[38;5;241;43m*\u001b[39;49m\u001b[43margs\u001b[49m\u001b[43m,\u001b[49m\u001b[43m \u001b[49m\u001b[43mrecursive\u001b[49m\u001b[38;5;241;43m=\u001b[39;49m\u001b[43m_recursive_\u001b[49m\u001b[43m,\u001b[49m\u001b[43m \u001b[49m\u001b[43mconvert\u001b[49m\u001b[38;5;241;43m=\u001b[39;49m\u001b[43m_convert_\u001b[49m\u001b[43m,\u001b[49m\u001b[43m \u001b[49m\u001b[43mpartial\u001b[49m\u001b[38;5;241;43m=\u001b[39;49m\u001b[43m_partial_\u001b[49m\n\u001b[1;32m    228\u001b[0m \u001b[43m    \u001b[49m\u001b[43m)\u001b[49m\n\u001b[1;32m    229\u001b[0m \u001b[38;5;28;01melif\u001b[39;00m OmegaConf\u001b[38;5;241m.\u001b[39mis_list(config):\n\u001b[1;32m    230\u001b[0m     \u001b[38;5;66;03m# Finalize config (convert targets to strings, merge with kwargs)\u001b[39;00m\n\u001b[1;32m    231\u001b[0m     config_copy \u001b[38;5;241m=\u001b[39m copy\u001b[38;5;241m.\u001b[39mdeepcopy(config)\n",
      "File \u001b[0;32m~/anaconda3/envs/torch/lib/python3.10/site-packages/hydra/_internal/instantiate/_instantiate2.py:333\u001b[0m, in \u001b[0;36minstantiate_node\u001b[0;34m(node, convert, recursive, partial, *args)\u001b[0m\n\u001b[1;32m    331\u001b[0m exclude_keys \u001b[38;5;241m=\u001b[39m \u001b[38;5;28mset\u001b[39m({\u001b[38;5;124m\"\u001b[39m\u001b[38;5;124m_target_\u001b[39m\u001b[38;5;124m\"\u001b[39m, \u001b[38;5;124m\"\u001b[39m\u001b[38;5;124m_convert_\u001b[39m\u001b[38;5;124m\"\u001b[39m, \u001b[38;5;124m\"\u001b[39m\u001b[38;5;124m_recursive_\u001b[39m\u001b[38;5;124m\"\u001b[39m, \u001b[38;5;124m\"\u001b[39m\u001b[38;5;124m_partial_\u001b[39m\u001b[38;5;124m\"\u001b[39m})\n\u001b[1;32m    332\u001b[0m \u001b[38;5;28;01mif\u001b[39;00m _is_target(node):\n\u001b[0;32m--> 333\u001b[0m     _target_ \u001b[38;5;241m=\u001b[39m \u001b[43m_resolve_target\u001b[49m\u001b[43m(\u001b[49m\u001b[43mnode\u001b[49m\u001b[38;5;241;43m.\u001b[39;49m\u001b[43mget\u001b[49m\u001b[43m(\u001b[49m\u001b[43m_Keys\u001b[49m\u001b[38;5;241;43m.\u001b[39;49m\u001b[43mTARGET\u001b[49m\u001b[43m)\u001b[49m\u001b[43m,\u001b[49m\u001b[43m \u001b[49m\u001b[43mfull_key\u001b[49m\u001b[43m)\u001b[49m\n\u001b[1;32m    334\u001b[0m     kwargs \u001b[38;5;241m=\u001b[39m {}\n\u001b[1;32m    335\u001b[0m     is_partial \u001b[38;5;241m=\u001b[39m node\u001b[38;5;241m.\u001b[39mget(\u001b[38;5;124m\"\u001b[39m\u001b[38;5;124m_partial_\u001b[39m\u001b[38;5;124m\"\u001b[39m, \u001b[38;5;28;01mFalse\u001b[39;00m) \u001b[38;5;129;01mor\u001b[39;00m partial\n",
      "File \u001b[0;32m~/anaconda3/envs/torch/lib/python3.10/site-packages/hydra/_internal/instantiate/_instantiate2.py:139\u001b[0m, in \u001b[0;36m_resolve_target\u001b[0;34m(target, full_key)\u001b[0m\n\u001b[1;32m    137\u001b[0m         \u001b[38;5;28;01mif\u001b[39;00m full_key:\n\u001b[1;32m    138\u001b[0m             msg \u001b[38;5;241m+\u001b[39m\u001b[38;5;241m=\u001b[39m \u001b[38;5;124mf\u001b[39m\u001b[38;5;124m\"\u001b[39m\u001b[38;5;130;01m\\n\u001b[39;00m\u001b[38;5;124mfull_key: \u001b[39m\u001b[38;5;132;01m{\u001b[39;00mfull_key\u001b[38;5;132;01m}\u001b[39;00m\u001b[38;5;124m\"\u001b[39m\n\u001b[0;32m--> 139\u001b[0m         \u001b[38;5;28;01mraise\u001b[39;00m InstantiationException(msg) \u001b[38;5;28;01mfrom\u001b[39;00m \u001b[38;5;21;01me\u001b[39;00m\n\u001b[1;32m    140\u001b[0m \u001b[38;5;28;01mif\u001b[39;00m \u001b[38;5;129;01mnot\u001b[39;00m \u001b[38;5;28mcallable\u001b[39m(target):\n\u001b[1;32m    141\u001b[0m     msg \u001b[38;5;241m=\u001b[39m \u001b[38;5;124mf\u001b[39m\u001b[38;5;124m\"\u001b[39m\u001b[38;5;124mExpected a callable target, got \u001b[39m\u001b[38;5;124m'\u001b[39m\u001b[38;5;132;01m{\u001b[39;00mtarget\u001b[38;5;132;01m}\u001b[39;00m\u001b[38;5;124m'\u001b[39m\u001b[38;5;124m of type \u001b[39m\u001b[38;5;124m'\u001b[39m\u001b[38;5;132;01m{\u001b[39;00m\u001b[38;5;28mtype\u001b[39m(target)\u001b[38;5;241m.\u001b[39m\u001b[38;5;18m__name__\u001b[39m\u001b[38;5;132;01m}\u001b[39;00m\u001b[38;5;124m'\u001b[39m\u001b[38;5;124m\"\u001b[39m\n",
      "\u001b[0;31mInstantiationException\u001b[0m: Error locating target 'o2s.models.object_2_sphere.Mesh2Sphere', set env var HYDRA_FULL_ERROR=1 to see chained exception.\nfull_key: module.backbone"
     ]
    }
   ],
   "source": [
    "output_dir = runs[20].data.params['output_dir']\n",
    "cfg = load_from_yaml(str(list(Path(output_dir).glob(\"**/config.yaml\"))[0]))\n",
    "#b7cdf38de03d4257aacb39457acc795c\n",
    "equiformer = get_target(cfg.module)\n",
    "equiformer = equiformer.load_from_checkpoint(\n",
    "    output_dir + '/last.ckpt',\n",
    "    backbone=instantiate(cfg.module.backbone),\n",
    "    criterion=instantiate(cfg.module.criterion),\n",
    "    optim=instantiate(cfg.module.optim),\n",
    ")"
   ]
  },
  {
   "cell_type": "code",
   "execution_count": 6,
   "id": "d6f2f3e6-e562-4e9c-801e-29848b90bdac",
   "metadata": {},
   "outputs": [
    {
     "name": "stderr",
     "output_type": "stream",
     "text": [
      "/home/colin/anaconda3/envs/torch/lib/python3.10/site-packages/torch/jit/_check.py:177: UserWarning: The TorchScript type system doesn't support instance-level annotations on empty non-base types in `__init__`. Instead, either 1) use a type annotation in the class body, or 2) wrap the type in `torch.jit.Attribute`.\n",
      "  warnings.warn(\n",
      "/home/colin/anaconda3/envs/torch/lib/python3.10/site-packages/torch/jit/_check.py:177: UserWarning: The TorchScript type system doesn't support instance-level annotations on empty non-base types in `__init__`. Instead, either 1) use a type annotation in the class body, or 2) wrap the type in `torch.jit.Attribute`.\n",
      "  warnings.warn(\n",
      "/home/colin/anaconda3/envs/torch/lib/python3.10/site-packages/torch/jit/_check.py:177: UserWarning: The TorchScript type system doesn't support instance-level annotations on empty non-base types in `__init__`. Instead, either 1) use a type annotation in the class body, or 2) wrap the type in `torch.jit.Attribute`.\n",
      "  warnings.warn(\n",
      "/home/colin/anaconda3/envs/torch/lib/python3.10/site-packages/torch/jit/_check.py:177: UserWarning: The TorchScript type system doesn't support instance-level annotations on empty non-base types in `__init__`. Instead, either 1) use a type annotation in the class body, or 2) wrap the type in `torch.jit.Attribute`.\n",
      "  warnings.warn(\n",
      "/home/colin/anaconda3/envs/torch/lib/python3.10/site-packages/torch/jit/_check.py:177: UserWarning: The TorchScript type system doesn't support instance-level annotations on empty non-base types in `__init__`. Instead, either 1) use a type annotation in the class body, or 2) wrap the type in `torch.jit.Attribute`.\n",
      "  warnings.warn(\n",
      "/home/colin/anaconda3/envs/torch/lib/python3.10/site-packages/torch/jit/_check.py:177: UserWarning: The TorchScript type system doesn't support instance-level annotations on empty non-base types in `__init__`. Instead, either 1) use a type annotation in the class body, or 2) wrap the type in `torch.jit.Attribute`.\n",
      "  warnings.warn(\n",
      "/home/colin/anaconda3/envs/torch/lib/python3.10/site-packages/torch/jit/_check.py:177: UserWarning: The TorchScript type system doesn't support instance-level annotations on empty non-base types in `__init__`. Instead, either 1) use a type annotation in the class body, or 2) wrap the type in `torch.jit.Attribute`.\n",
      "  warnings.warn(\n",
      "/home/colin/anaconda3/envs/torch/lib/python3.10/site-packages/torch/jit/_check.py:177: UserWarning: The TorchScript type system doesn't support instance-level annotations on empty non-base types in `__init__`. Instead, either 1) use a type annotation in the class body, or 2) wrap the type in `torch.jit.Attribute`.\n",
      "  warnings.warn(\n"
     ]
    }
   ],
   "source": [
    "output_dir = runs[0].data.params['output_dir']\n",
    "cfg = load_from_yaml(str(list(Path(output_dir).glob(\"**/config.yaml\"))[0]))\n",
    "#b7cdf38de03d4257aacb39457acc795c\n",
    "o2s = get_target(cfg.module)\n",
    "o2s = o2s.load_from_checkpoint(\n",
    "    output_dir + '/last.ckpt',\n",
    "    backbone=instantiate(cfg.module.backbone),\n",
    "    criterion=instantiate(cfg.module.criterion),\n",
    "    optim=instantiate(cfg.module.optim),\n",
    ")"
   ]
  },
  {
   "cell_type": "code",
   "execution_count": 7,
   "id": "2b86f67c-6b43-488a-bd64-7524f88e8f4d",
   "metadata": {},
   "outputs": [],
   "source": [
    "#cfg = load_from_yaml('/home/colin/hdd/workspace/object2sphere/config/rem_config.yaml')\n",
    "cfg = load_from_yaml(str(list(Path(output_dir).glob(\"**/config.yaml\"))[0]))\n",
    "test_ds_fp = '/home/colin/hdd/workspace/object2sphere/datasets/radar_test.nc'\n",
    "ds = RadarDataset(\n",
    "    test_ds_fp,\n",
    "    'test',\n",
    "    seed=0,\n",
    "    transform=instantiate(cfg.test_dataset.transform),\n",
    "    shuffle_before_split=False,\n",
    "    mesh_mode='simple',\n",
    "    orientation_mode='full',\n",
    ")"
   ]
  },
  {
   "cell_type": "code",
   "execution_count": 8,
   "id": "beb9ce90-7a9c-450f-8392-02cd25442de1",
   "metadata": {},
   "outputs": [],
   "source": [
    "dl = DataLoader(ds, batch_size=10, num_workers=0, shuffle=True)\n",
    "itr = iter(dl)"
   ]
  },
  {
   "cell_type": "code",
   "execution_count": 9,
   "id": "5900cb59-8ce3-4b61-acc8-df3b35fb7673",
   "metadata": {},
   "outputs": [],
   "source": [
    "mesh, target  = next(itr)\n",
    "with torch.no_grad():\n",
    "    #equiformer_pred, _ = equiformer(mesh.cuda())\n",
    "    o2s_pred, _ = o2s(mesh.cuda())"
   ]
  },
  {
   "cell_type": "code",
   "execution_count": 10,
   "id": "f48104e1-efdb-4e2e-8610-a4bb7869af1c",
   "metadata": {},
   "outputs": [
    {
     "name": "stdout",
     "output_type": "stream",
     "text": [
      "frame=0\n",
      "frame=10\n",
      "frame=20\n",
      "frame=30\n",
      "frame=40\n",
      "frame=50\n",
      "frame=60\n"
     ]
    }
   ],
   "source": [
    "import matplotlib.animation as animation\n",
    "\n",
    "fig = plt.figure(layout='constrained', figsize=(12, 8), dpi=72)\n",
    "subfigs = fig.subfigures(1, 3)\n",
    "\n",
    "moviewriter = animation.FFMpegWriter(fps=30)\n",
    "moviewriter.setup(fig, 'compare.mp4', dpi=72)\n",
    "\n",
    "b = 1\n",
    "num_frames = target.size(1)\n",
    "for frame in range(num_frames):\n",
    "    if frame % 10 == 0:\n",
    "        print(f\"frame={frame}\")\n",
    "    \n",
    "    plotting.plot_spherical_fn(\n",
    "        o2s_pred[b,frame].cpu().squeeze().numpy(), \n",
    "        fig=subfigs[0], \n",
    "        vmin=target[b].min(),\n",
    "        vmax=target[b].max(),\n",
    "        title=f\"R={frame}\"\n",
    "    )\n",
    "    if False:\n",
    "        plotting.plot_spherical_fn(\n",
    "            equiformer_pred[b,frame].cpu().squeeze().numpy(), \n",
    "            fig=subfigs[1], \n",
    "            vmin=-0.5,\n",
    "            vmax=0.5,\n",
    "            title=f\"R={frame}\"\n",
    "        )\n",
    "    plotting.plot_spherical_fn(\n",
    "        target[b,frame].cpu().squeeze().numpy(), \n",
    "        fig=subfigs[2],\n",
    "        vmin=target[b].min(),\n",
    "        vmax=target[b].max(),\n",
    "        title=f\"R={frame}\"\n",
    "    )\n",
    "\n",
    "    plt.draw()\n",
    "    moviewriter.grab_frame()\n",
    "    subfigs[0].clear()\n",
    "    subfigs[1].clear()\n",
    "    subfigs[2].clear()\n",
    "\n",
    "moviewriter.finish()\n",
    "plt.close()"
   ]
  },
  {
   "cell_type": "markdown",
   "id": "a02dde91-d6c3-48e1-90d9-0a1c6d29e771",
   "metadata": {},
   "source": [
    "<video controls src=\"compare.mp4\" />"
   ]
  },
  {
   "cell_type": "markdown",
   "id": "51774a5c-ecfc-4ed9-baa4-7f9d908577ba",
   "metadata": {},
   "source": [
    "<video controls src=\"compare.mp4\" />"
   ]
  },
  {
   "cell_type": "code",
   "execution_count": null,
   "id": "0b7d18c4-9c7d-4cef-8685-eb6345c27964",
   "metadata": {},
   "outputs": [],
   "source": []
  }
 ],
 "metadata": {
  "kernelspec": {
   "display_name": "Python 3 (ipykernel)",
   "language": "python",
   "name": "python3"
  },
  "language_info": {
   "codemirror_mode": {
    "name": "ipython",
    "version": 3
   },
   "file_extension": ".py",
   "mimetype": "text/x-python",
   "name": "python",
   "nbconvert_exporter": "python",
   "pygments_lexer": "ipython3",
   "version": "3.10.14"
  }
 },
 "nbformat": 4,
 "nbformat_minor": 5
}

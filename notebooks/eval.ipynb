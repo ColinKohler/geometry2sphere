{
 "cells": [
  {
   "cell_type": "code",
   "execution_count": 1,
   "id": "4edda66c-4400-40f7-a914-2b357573d7a6",
   "metadata": {},
   "outputs": [],
   "source": [
    "from o2s.models.object_2_sphere import Mesh2Sphere\n",
    "from o2s.datasets.radar_dataset import RadarDataset\n",
    "from o2s.datasets.transforms.general import Compose\n",
    "from o2s.datasets.transforms.radar import Log, Abs, Normalize, Center\n",
    "from o2s.datasets.transforms.mesh import MeshNormalize\n",
    "\n",
    "import numpy as np\n",
    "import matplotlib.pyplot as plt\n",
    "from torch_harmonics import plotting\n",
    "from torch_geometric.loader import DataLoader\n",
    "import xarray\n",
    "import torch\n",
    "from torch import nn\n",
    "from pathlib import Path\n",
    "\n",
    "from hydra_zen import load_from_yaml, instantiate, get_target\n",
    "from mlflow import MlflowClient, set_tracking_uri"
   ]
  },
  {
   "cell_type": "code",
   "execution_count": 2,
   "id": "fb28c655-3bc2-4b73-81fc-4d7c30cf5ba5",
   "metadata": {},
   "outputs": [],
   "source": [
    "set_tracking_uri('/home/colin/hdd/workspace/object2sphere/datasets/out/mlflow')\n",
    "runs = MlflowClient().search_runs(\n",
    "    experiment_ids=\"296464738904891211\",\n",
    ")"
   ]
  },
  {
   "cell_type": "code",
   "execution_count": 5,
   "id": "8ddc348b-db3a-43e2-80f2-e80ea601780f",
   "metadata": {},
   "outputs": [
    {
     "name": "stderr",
     "output_type": "stream",
     "text": [
      "/home/colin/anaconda3/envs/torch/lib/python3.10/site-packages/torch/jit/_check.py:177: UserWarning: The TorchScript type system doesn't support instance-level annotations on empty non-base types in `__init__`. Instead, either 1) use a type annotation in the class body, or 2) wrap the type in `torch.jit.Attribute`.\n",
      "  warnings.warn(\n",
      "/home/colin/anaconda3/envs/torch/lib/python3.10/site-packages/torch/jit/_check.py:177: UserWarning: The TorchScript type system doesn't support instance-level annotations on empty non-base types in `__init__`. Instead, either 1) use a type annotation in the class body, or 2) wrap the type in `torch.jit.Attribute`.\n",
      "  warnings.warn(\n",
      "/home/colin/anaconda3/envs/torch/lib/python3.10/site-packages/torch/jit/_check.py:177: UserWarning: The TorchScript type system doesn't support instance-level annotations on empty non-base types in `__init__`. Instead, either 1) use a type annotation in the class body, or 2) wrap the type in `torch.jit.Attribute`.\n",
      "  warnings.warn(\n",
      "/home/colin/anaconda3/envs/torch/lib/python3.10/site-packages/torch/jit/_check.py:177: UserWarning: The TorchScript type system doesn't support instance-level annotations on empty non-base types in `__init__`. Instead, either 1) use a type annotation in the class body, or 2) wrap the type in `torch.jit.Attribute`.\n",
      "  warnings.warn(\n",
      "/home/colin/anaconda3/envs/torch/lib/python3.10/site-packages/torch/jit/_check.py:177: UserWarning: The TorchScript type system doesn't support instance-level annotations on empty non-base types in `__init__`. Instead, either 1) use a type annotation in the class body, or 2) wrap the type in `torch.jit.Attribute`.\n",
      "  warnings.warn(\n"
     ]
    }
   ],
   "source": [
    "output_dir = runs[1].data.params['output_dir']\n",
    "cfg = load_from_yaml(str(list(Path(output_dir).glob(\"**/config.yaml\"))[0]))\n",
    "\n",
    "module_equi = get_target(cfg.module)\n",
    "module_equi = module_equi.load_from_checkpoint(\n",
    "    #output_dir + '/last.ckpt',\n",
    "    '/home/colin/hdd/workspace/object2sphere/datasets/out/hydra/test/2024-09-12/22-55-37/last.ckpt',\n",
    "    backbone=instantiate(cfg.module.backbone),\n",
    "    criterion=instantiate(cfg.module.criterion),\n",
    "    optim=instantiate(cfg.module.optim),\n",
    ")"
   ]
  },
  {
   "cell_type": "code",
   "execution_count": 6,
   "id": "2b86f67c-6b43-488a-bd64-7524f88e8f4d",
   "metadata": {},
   "outputs": [],
   "source": [
    "test_ds_fp = '/home/colin/hdd/workspace/object2sphere/datasets/test_dataset.nc'\n",
    "ds = RadarDataset(\n",
    "    test_ds_fp,\n",
    "    'test',\n",
    "    seed=0,\n",
    "    transform=instantiate(cfg.test_dataset.transform),\n",
    "    shuffle_before_split=False,\n",
    "    mesh_mode='simple',\n",
    "    orientation_mode='full',\n",
    ")"
   ]
  },
  {
   "cell_type": "code",
   "execution_count": 7,
   "id": "beb9ce90-7a9c-450f-8392-02cd25442de1",
   "metadata": {},
   "outputs": [],
   "source": [
    "dl = DataLoader(ds, batch_size=2, num_workers=0, shuffle=True)\n",
    "itr = iter(dl)"
   ]
  },
  {
   "cell_type": "code",
   "execution_count": 8,
   "id": "5900cb59-8ce3-4b61-acc8-df3b35fb7673",
   "metadata": {},
   "outputs": [
    {
     "name": "stdout",
     "output_type": "stream",
     "text": [
      "torch.Size([2, 61, 21])\n",
      "tensor(0.0698, device='cuda:0', dtype=torch.float64)\n"
     ]
    }
   ],
   "source": [
    "mesh, resp  = next(itr)\n",
    "target = resp[0,53,:,:]\n",
    "with torch.no_grad():\n",
    "    pred, w = module_equi(mesh.cuda())\n",
    "    print(pred.shape)\n",
    "print(torch.mean((target.cuda() - pred)**2))"
   ]
  },
  {
   "cell_type": "code",
   "execution_count": 21,
   "id": "fe7d5676-d9a9-427e-8512-b05baef87851",
   "metadata": {},
   "outputs": [
    {
     "data": {
      "text/plain": [
       "(tensor([ 676,  677,  678,  ..., 2598, 2599, 2600], device='cuda:0'),)"
      ]
     },
     "execution_count": 21,
     "metadata": {},
     "output_type": "execute_result"
    }
   ],
   "source": [
    "torch.where(w[0,0] == 0)"
   ]
  },
  {
   "cell_type": "code",
   "execution_count": 22,
   "id": "4285c5ae-b564-4752-8c38-e1fec2f3b7fd",
   "metadata": {},
   "outputs": [
    {
     "data": {
      "text/plain": [
       "676"
      ]
     },
     "execution_count": 22,
     "metadata": {},
     "output_type": "execute_result"
    }
   ],
   "source": []
  },
  {
   "cell_type": "code",
   "execution_count": 19,
   "id": "2be2369d-9b63-49e0-9080-ed32e5f2c05b",
   "metadata": {},
   "outputs": [
    {
     "data": {
      "text/plain": [
       "<cartopy.mpl.geocollection.GeoQuadMesh at 0x76ea944c1030>"
      ]
     },
     "execution_count": 19,
     "metadata": {},
     "output_type": "execute_result"
    },
    {
     "data": {
      "image/png": "[encoded data removed]",
      "text/plain": [
       "<Figure size 200x200 with 2 Axes>"
      ]
     },
     "metadata": {},
     "output_type": "display_data"
    }
   ],
   "source": [
    "plotting.plot_spherical_fn(pred[0].cpu().squeeze().numpy(), fig=plt.figure(figsize=(2,2)), vmin=target.cpu().min(), vmax=target.cpu().max())"
   ]
  },
  {
   "cell_type": "code",
   "execution_count": null,
   "id": "cb465414-1544-406b-be9b-31ca27ad0e60",
   "metadata": {},
   "outputs": [],
   "source": [
    "import matplotlib.animation as animation\n",
    "\n",
    "fig = plt.figure(layout='constrained', figsize=(12, 8), dpi=72)\n",
    "\n",
    "moviewriter = animation.writers['pillow'](fps=30)\n",
    "moviewriter.setup(fig, 'pred.gif', dpi=72)\n",
    "\n",
    "num_frames = 90\n",
    "for frame in range(num_frames):\n",
    "    # compute the rotation of the sphere\n",
    "    lon = -num_frames - (360 / num_frames) * frame\n",
    "\n",
    "    if frame % 10 == 0:\n",
    "        print(f\"frame={frame}\")\n",
    "    \n",
    "    plotting.plot_spherical_fn(pred[0].cpu().squeeze().numpy(), fig=fig, central_longitude=lon, vmin=target.cpu().min(), vmax=target.cpu().max())\n",
    "\n",
    "    plt.draw()\n",
    "    moviewriter.grab_frame()\n",
    "\n",
    "moviewriter.finish()"
   ]
  },
  {
   "cell_type": "code",
   "execution_count": 20,
   "id": "5cf47ceb-0e7a-4c33-98a9-956a5fd651d6",
   "metadata": {},
   "outputs": [
    {
     "data": {
      "text/plain": [
       "<cartopy.mpl.geocollection.GeoQuadMesh at 0x76eaa0149600>"
      ]
     },
     "execution_count": 20,
     "metadata": {},
     "output_type": "execute_result"
    },
    {
     "data": {
      "image/png": "[encoded data removed]",
      "text/plain": [
       "<Figure size 200x200 with 2 Axes>"
      ]
     },
     "metadata": {},
     "output_type": "display_data"
    }
   ],
   "source": [
    "plotting.plot_spherical_fn(resp[0,53,:,:].cpu().squeeze().numpy(), fig=plt.figure(figsize=(2,2)), vmin=target.cpu().min(), vmax=target.cpu().max())"
   ]
  },
  {
   "cell_type": "code",
   "execution_count": null,
   "id": "35225d92-4093-48f0-b458-974e87a66fd1",
   "metadata": {},
   "outputs": [],
   "source": [
    "fig = plt.figure(layout='constrained', figsize=(12, 8), dpi=72)\n",
    "\n",
    "moviewriter = animation.writers['pillow'](fps=30)\n",
    "moviewriter.setup(fig, 'target.gif', dpi=72)\n",
    "\n",
    "num_frames = 90\n",
    "for frame in range(num_frames):\n",
    "    # compute the rotation of the sphere\n",
    "    lon = -num_frames - (360 / num_frames) * frame\n",
    "\n",
    "    if frame % 10 == 0:\n",
    "        print(f\"frame={frame}\")\n",
    "    \n",
    "    plotting.plot_spherical_fn(target.cpu().squeeze().numpy(), fig=fig, central_longitude=lon, vmin=target.cpu().min(), vmax=target.cpu().max())\n",
    "\n",
    "    plt.draw()\n",
    "    moviewriter.grab_frame()\n",
    "\n",
    "moviewriter.finish()"
   ]
  },
  {
   "cell_type": "code",
   "execution_count": null,
   "id": "d4719d60-3f1b-4158-a7ca-d7c2b1f8d987",
   "metadata": {},
   "outputs": [],
   "source": [
    "plotting.plot_spherical_fn(np.abs(target.cpu().squeeze().numpy() - pred[0].cpu().squeeze().numpy()), fig=plt.figure(figsize=(2,2)))"
   ]
  },
  {
   "cell_type": "markdown",
   "id": "06ee1486-7109-4898-b8df-22536c5dad85",
   "metadata": {},
   "source": [
    "fig = plt.figure(layout='constrained', figsize=(12, 8), dpi=72)\n",
    "\n",
    "moviewriter = animation.writers['pillow'](fps=30)\n",
    "moviewriter.setup(fig, 'error.gif', dpi=72)\n",
    "\n",
    "num_frames = 360\n",
    "for frame in range(num_frames):\n",
    "    # compute the rotation of the sphere\n",
    "    lon = -num_frames - (360 / num_frames) * frame\n",
    "\n",
    "    if frame % 10 == 0:\n",
    "        print(f\"frame={frame}\")\n",
    "    \n",
    "        plotting.plot_spherical_fn(np.abs(target.cpu().squeeze().numpy() - pred.cpu().squeeze().numpy()), fig=fig, central_longitude=lon)\n",
    "\n",
    "    plt.draw()\n",
    "    moviewriter.grab_frame()\n",
    "\n",
    "moviewriter.finish()"
   ]
  },
  {
   "cell_type": "markdown",
   "id": "29170897-047c-41c2-9087-ebc345145f50",
   "metadata": {},
   "source": [
    "## Ground Truth\n",
    "![SegmentLocal](target.gif \"segment\")\n",
    "\n",
    "## Prediction\n",
    "![SegmentLocal](pred.gif \"segment\")\n",
    "\n",
    "## Error\n",
    "![SegmentLocal](error.gif \"segment\")"
   ]
  },
  {
   "cell_type": "markdown",
   "id": "7ff2e3c6-a88a-4e35-a53b-d2e8c23322de",
   "metadata": {},
   "source": [
    "## Ground Truth\n",
    "![SegmentLocal](target.gif \"segment\")\n",
    "\n",
    "## Prediction\n",
    "![SegmentLocal](pred.gif \"segment\")\n",
    "\n",
    "## Error\n",
    "![SegmentLocal](error.gif \"segment\")"
   ]
  },
  {
   "cell_type": "code",
   "execution_count": null,
   "id": "f089e90f-eb5e-44a0-9681-0463047dfbe2",
   "metadata": {},
   "outputs": [],
   "source": []
  },
  {
   "cell_type": "code",
   "execution_count": null,
   "id": "7de188b8-a1e3-46dc-9aeb-8a7a0f27231b",
   "metadata": {},
   "outputs": [],
   "source": []
  }
 ],
 "metadata": {
  "kernelspec": {
   "display_name": "Python 3 (ipykernel)",
   "language": "python",
   "name": "python3"
  },
  "language_info": {
   "codemirror_mode": {
    "name": "ipython",
    "version": 3
   },
   "file_extension": ".py",
   "mimetype": "text/x-python",
   "name": "python",
   "nbconvert_exporter": "python",
   "pygments_lexer": "ipython3",
   "version": "3.10.14"
  }
 },
 "nbformat": 4,
 "nbformat_minor": 5
}
